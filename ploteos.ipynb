{
 "cells": [
  {
   "cell_type": "code",
   "execution_count": 1,
   "metadata": {},
   "outputs": [],
   "source": [
    "import numpy as np\n",
    "import matplotlib.pyplot as plt\n",
    "import scipy.signal as dsp\n",
    "\n",
    "def plot_spec(signal,fs):\n",
    "    espec=20*np.log10(np.abs(np.fft.fft(signal))/len(signal))\n",
    "    espec=np.fft.fftshift(espec)\n",
    "    fcia=np.linspace(-fs/2,fs/2,len(espec))\n",
    "    plt.figure()\n",
    "    plt.title('Espectro de la señal')\n",
    "    plt.plot(fcia,espec)"
   ]
  },
  {
   "cell_type": "code",
   "execution_count": null,
   "metadata": {},
   "outputs": [],
   "source": []
  }
 ],
 "metadata": {
  "kernelspec": {
   "display_name": "Python 3",
   "language": "python",
   "name": "python3"
  },
  "language_info": {
   "codemirror_mode": {
    "name": "ipython",
    "version": 3
   },
   "file_extension": ".py",
   "mimetype": "text/x-python",
   "name": "python",
   "nbconvert_exporter": "python",
   "pygments_lexer": "ipython3",
   "version": "3.6.5"
  }
 },
 "nbformat": 4,
 "nbformat_minor": 2
}
